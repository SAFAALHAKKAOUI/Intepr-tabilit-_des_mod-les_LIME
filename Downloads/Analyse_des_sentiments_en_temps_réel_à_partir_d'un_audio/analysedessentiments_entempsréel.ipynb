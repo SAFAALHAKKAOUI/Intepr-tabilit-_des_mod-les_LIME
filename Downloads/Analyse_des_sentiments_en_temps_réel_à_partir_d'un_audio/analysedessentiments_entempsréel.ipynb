{
 "cells": [
  {
   "cell_type": "code",
   "execution_count": 1,
   "id": "43d1a078-28ff-4ad5-876b-3b135a07473b",
   "metadata": {},
   "outputs": [
    {
     "name": "stdout",
     "output_type": "stream",
     "text": [
      "Requirement already satisfied: nltk in c:\\users\\administrateur\\anaconda3\\lib\\site-packages (3.8.1)\n",
      "Requirement already satisfied: click in c:\\users\\administrateur\\anaconda3\\lib\\site-packages (from nltk) (8.1.7)\n",
      "Requirement already satisfied: joblib in c:\\users\\administrateur\\anaconda3\\lib\\site-packages (from nltk) (1.2.0)\n",
      "Requirement already satisfied: regex>=2021.8.3 in c:\\users\\administrateur\\anaconda3\\lib\\site-packages (from nltk) (2023.10.3)\n",
      "Requirement already satisfied: tqdm in c:\\users\\administrateur\\anaconda3\\lib\\site-packages (from nltk) (4.65.0)\n",
      "Requirement already satisfied: colorama in c:\\users\\administrateur\\anaconda3\\lib\\site-packages (from click->nltk) (0.4.6)\n",
      "Note: you may need to restart the kernel to use updated packages.\n"
     ]
    }
   ],
   "source": [
    "pip install nltk"
   ]
  },
  {
   "cell_type": "code",
   "execution_count": 2,
   "id": "989925bd-cad5-47ea-a988-1fe8d23f7f23",
   "metadata": {},
   "outputs": [
    {
     "name": "stderr",
     "output_type": "stream",
     "text": [
      "[nltk_data] Downloading package punkt to\n",
      "[nltk_data]     C:\\Users\\Administrateur\\AppData\\Roaming\\nltk_data...\n",
      "[nltk_data]   Package punkt is already up-to-date!\n"
     ]
    },
    {
     "data": {
      "text/plain": [
       "True"
      ]
     },
     "execution_count": 2,
     "metadata": {},
     "output_type": "execute_result"
    }
   ],
   "source": [
    "import nltk\n",
    "nltk.download('punkt')"
   ]
  },
  {
   "cell_type": "code",
   "execution_count": 3,
   "id": "99e87b6d-1844-4870-9106-10fb8ec93f82",
   "metadata": {},
   "outputs": [
    {
     "name": "stderr",
     "output_type": "stream",
     "text": [
      "[nltk_data] Downloading package averaged_perceptron_tagger to\n",
      "[nltk_data]     C:\\Users\\Administrateur\\AppData\\Roaming\\nltk_data...\n",
      "[nltk_data]   Unzipping taggers\\averaged_perceptron_tagger.zip.\n"
     ]
    },
    {
     "data": {
      "text/plain": [
       "True"
      ]
     },
     "execution_count": 3,
     "metadata": {},
     "output_type": "execute_result"
    }
   ],
   "source": [
    "nltk.download('averaged_perceptron_tagger')"
   ]
  },
  {
   "cell_type": "code",
   "execution_count": 7,
   "id": "2b03d931-ecdb-4dc7-b73e-d444873ccc73",
   "metadata": {},
   "outputs": [
    {
     "name": "stdout",
     "output_type": "stream",
     "text": [
      "Collecting textblob\n",
      "  Downloading textblob-0.18.0.post0-py3-none-any.whl.metadata (4.5 kB)\n",
      "Requirement already satisfied: nltk>=3.8 in c:\\users\\administrateur\\anaconda3\\lib\\site-packages (from textblob) (3.8.1)\n",
      "Requirement already satisfied: click in c:\\users\\administrateur\\anaconda3\\lib\\site-packages (from nltk>=3.8->textblob) (8.1.7)\n",
      "Requirement already satisfied: joblib in c:\\users\\administrateur\\anaconda3\\lib\\site-packages (from nltk>=3.8->textblob) (1.2.0)\n",
      "Requirement already satisfied: regex>=2021.8.3 in c:\\users\\administrateur\\anaconda3\\lib\\site-packages (from nltk>=3.8->textblob) (2023.10.3)\n",
      "Requirement already satisfied: tqdm in c:\\users\\administrateur\\anaconda3\\lib\\site-packages (from nltk>=3.8->textblob) (4.65.0)\n",
      "Requirement already satisfied: colorama in c:\\users\\administrateur\\anaconda3\\lib\\site-packages (from click->nltk>=3.8->textblob) (0.4.6)\n",
      "Downloading textblob-0.18.0.post0-py3-none-any.whl (626 kB)\n",
      "   ---------------------------------------- 0.0/626.3 kB ? eta -:--:--\n",
      "    --------------------------------------- 10.2/626.3 kB ? eta -:--:--\n",
      "    --------------------------------------- 10.2/626.3 kB ? eta -:--:--\n",
      "   - ------------------------------------- 30.7/626.3 kB 186.2 kB/s eta 0:00:04\n",
      "   --- ----------------------------------- 51.2/626.3 kB 262.6 kB/s eta 0:00:03\n",
      "   --------- ---------------------------- 153.6/626.3 kB 610.0 kB/s eta 0:00:01\n",
      "   ---------------- --------------------- 266.2/626.3 kB 911.0 kB/s eta 0:00:01\n",
      "   ---------------------------- ----------- 450.6/626.3 kB 1.3 MB/s eta 0:00:01\n",
      "   ---------------------------------------  624.6/626.3 kB 1.6 MB/s eta 0:00:01\n",
      "   ---------------------------------------- 626.3/626.3 kB 1.6 MB/s eta 0:00:00\n",
      "Installing collected packages: textblob\n",
      "Successfully installed textblob-0.18.0.post0\n",
      "Note: you may need to restart the kernel to use updated packages.\n"
     ]
    }
   ],
   "source": [
    "pip install textblob"
   ]
  },
  {
   "cell_type": "code",
   "execution_count": 10,
   "id": "d6a85bb3-30b9-476c-bae4-2aae8aa0e478",
   "metadata": {},
   "outputs": [],
   "source": [
    "from textblob import TextBlob as blob"
   ]
  },
  {
   "cell_type": "code",
   "execution_count": 19,
   "id": "cf492f20-71e9-41a7-88cc-043a5269bf18",
   "metadata": {},
   "outputs": [
    {
     "data": {
      "text/plain": [
       "TextBlob(\"Hi, please like this post!\")"
      ]
     },
     "execution_count": 19,
     "metadata": {},
     "output_type": "execute_result"
    }
   ],
   "source": [
    "tb = blob('Hi, please like this post!')\n",
    "tb"
   ]
  },
  {
   "cell_type": "code",
   "execution_count": 20,
   "id": "403ea931-9599-4095-9dfd-341d1329f9dd",
   "metadata": {},
   "outputs": [
    {
     "data": {
      "text/plain": [
       "[('Hi', 'NNP'),\n",
       " ('please', 'NN'),\n",
       " ('like', 'IN'),\n",
       " ('this', 'DT'),\n",
       " ('post', 'NN')]"
      ]
     },
     "execution_count": 20,
     "metadata": {},
     "output_type": "execute_result"
    }
   ],
   "source": [
    "tb.tags"
   ]
  },
  {
   "cell_type": "code",
   "execution_count": 21,
   "id": "d25adeac-5efc-4470-bd8c-e195b13fc76d",
   "metadata": {},
   "outputs": [
    {
     "data": {
      "text/plain": [
       "Sentiment(polarity=0.0, subjectivity=0.0)"
      ]
     },
     "execution_count": 21,
     "metadata": {},
     "output_type": "execute_result"
    }
   ],
   "source": [
    "tb.sentiment"
   ]
  },
  {
   "cell_type": "code",
   "execution_count": 22,
   "id": "3dfd9c68-918c-4db8-be3b-5aa83cf9ca3c",
   "metadata": {},
   "outputs": [],
   "source": [
    "tb = blob('I love this channel. there is many useful videos are here!')"
   ]
  },
  {
   "cell_type": "code",
   "execution_count": 23,
   "id": "cbe717d3-0d3b-422d-ae57-744690d4d74f",
   "metadata": {},
   "outputs": [
    {
     "data": {
      "text/plain": [
       "Sentiment(polarity=0.4583333333333333, subjectivity=0.3666666666666667)"
      ]
     },
     "execution_count": 23,
     "metadata": {},
     "output_type": "execute_result"
    }
   ],
   "source": [
    "tb.sentiment"
   ]
  },
  {
   "cell_type": "code",
   "execution_count": 24,
   "id": "3cfca1eb-f0b2-407e-94b7-f0ad139c1d51",
   "metadata": {},
   "outputs": [
    {
     "name": "stdout",
     "output_type": "stream",
     "text": [
      "Collecting SpeechRecognition\n",
      "  Downloading SpeechRecognition-3.10.3-py2.py3-none-any.whl.metadata (29 kB)\n",
      "Requirement already satisfied: requests>=2.26.0 in c:\\users\\administrateur\\anaconda3\\lib\\site-packages (from SpeechRecognition) (2.31.0)\n",
      "Requirement already satisfied: typing-extensions in c:\\users\\administrateur\\anaconda3\\lib\\site-packages (from SpeechRecognition) (4.9.0)\n",
      "Requirement already satisfied: charset-normalizer<4,>=2 in c:\\users\\administrateur\\anaconda3\\lib\\site-packages (from requests>=2.26.0->SpeechRecognition) (2.0.4)\n",
      "Requirement already satisfied: idna<4,>=2.5 in c:\\users\\administrateur\\anaconda3\\lib\\site-packages (from requests>=2.26.0->SpeechRecognition) (3.4)\n",
      "Requirement already satisfied: urllib3<3,>=1.21.1 in c:\\users\\administrateur\\anaconda3\\lib\\site-packages (from requests>=2.26.0->SpeechRecognition) (2.0.7)\n",
      "Requirement already satisfied: certifi>=2017.4.17 in c:\\users\\administrateur\\anaconda3\\lib\\site-packages (from requests>=2.26.0->SpeechRecognition) (2024.2.2)\n",
      "Downloading SpeechRecognition-3.10.3-py2.py3-none-any.whl (32.8 MB)\n",
      "   ---------------------------------------- 0.0/32.8 MB ? eta -:--:--\n",
      "   ---------------------------------------- 0.0/32.8 MB ? eta -:--:--\n",
      "   ---------------------------------------- 0.0/32.8 MB 487.6 kB/s eta 0:01:08\n",
      "   ---------------------------------------- 0.1/32.8 MB 1.2 MB/s eta 0:00:28\n",
      "   ---------------------------------------- 0.3/32.8 MB 1.8 MB/s eta 0:00:19\n",
      "    --------------------------------------- 0.5/32.8 MB 2.2 MB/s eta 0:00:15\n",
      "    --------------------------------------- 0.6/32.8 MB 2.5 MB/s eta 0:00:13\n",
      "   - -------------------------------------- 0.8/32.8 MB 2.8 MB/s eta 0:00:12\n",
      "   - -------------------------------------- 1.0/32.8 MB 3.0 MB/s eta 0:00:11\n",
      "   - -------------------------------------- 1.3/32.8 MB 3.2 MB/s eta 0:00:10\n",
      "   - -------------------------------------- 1.5/32.8 MB 3.4 MB/s eta 0:00:10\n",
      "   -- ------------------------------------- 1.7/32.8 MB 3.5 MB/s eta 0:00:09\n",
      "   -- ------------------------------------- 1.9/32.8 MB 3.5 MB/s eta 0:00:09\n",
      "   -- ------------------------------------- 2.1/32.8 MB 3.6 MB/s eta 0:00:09\n",
      "   -- ------------------------------------- 2.3/32.8 MB 3.7 MB/s eta 0:00:09\n",
      "   --- ------------------------------------ 2.5/32.8 MB 3.8 MB/s eta 0:00:09\n",
      "   --- ------------------------------------ 2.7/32.8 MB 3.7 MB/s eta 0:00:09\n",
      "   --- ------------------------------------ 2.9/32.8 MB 3.8 MB/s eta 0:00:08\n",
      "   --- ------------------------------------ 3.1/32.8 MB 3.8 MB/s eta 0:00:08\n",
      "   ---- ----------------------------------- 3.3/32.8 MB 3.8 MB/s eta 0:00:08\n",
      "   ---- ----------------------------------- 3.5/32.8 MB 3.9 MB/s eta 0:00:08\n",
      "   ---- ----------------------------------- 3.7/32.8 MB 3.9 MB/s eta 0:00:08\n",
      "   ---- ----------------------------------- 4.0/32.8 MB 4.0 MB/s eta 0:00:08\n",
      "   ----- ---------------------------------- 4.2/32.8 MB 4.0 MB/s eta 0:00:08\n",
      "   ----- ---------------------------------- 4.4/32.8 MB 4.0 MB/s eta 0:00:08\n",
      "   ----- ---------------------------------- 4.6/32.8 MB 4.0 MB/s eta 0:00:08\n",
      "   ----- ---------------------------------- 4.8/32.8 MB 4.0 MB/s eta 0:00:07\n",
      "   ------ --------------------------------- 5.0/32.8 MB 4.0 MB/s eta 0:00:07\n",
      "   ------ --------------------------------- 5.2/32.8 MB 4.1 MB/s eta 0:00:07\n",
      "   ------ --------------------------------- 5.4/32.8 MB 4.1 MB/s eta 0:00:07\n",
      "   ------ --------------------------------- 5.6/32.8 MB 4.1 MB/s eta 0:00:07\n",
      "   ------ --------------------------------- 5.7/32.8 MB 4.1 MB/s eta 0:00:07\n",
      "   ------ --------------------------------- 5.7/32.8 MB 4.1 MB/s eta 0:00:07\n",
      "   ------ --------------------------------- 5.7/32.8 MB 4.1 MB/s eta 0:00:07\n",
      "   ------ --------------------------------- 5.7/32.8 MB 4.1 MB/s eta 0:00:07\n",
      "   ------ --------------------------------- 5.7/32.8 MB 3.6 MB/s eta 0:00:08\n",
      "   ------- -------------------------------- 6.1/32.8 MB 3.8 MB/s eta 0:00:08\n",
      "   ------- -------------------------------- 6.3/32.8 MB 3.7 MB/s eta 0:00:08\n",
      "   -------- ------------------------------- 7.1/32.8 MB 4.1 MB/s eta 0:00:07\n",
      "   -------- ------------------------------- 7.3/32.8 MB 4.1 MB/s eta 0:00:07\n",
      "   --------- ------------------------------ 7.5/32.8 MB 4.1 MB/s eta 0:00:07\n",
      "   --------- ------------------------------ 7.7/32.8 MB 4.1 MB/s eta 0:00:07\n",
      "   --------- ------------------------------ 7.9/32.8 MB 4.1 MB/s eta 0:00:07\n",
      "   --------- ------------------------------ 8.1/32.8 MB 4.1 MB/s eta 0:00:07\n",
      "   ---------- ----------------------------- 8.3/32.8 MB 4.1 MB/s eta 0:00:06\n",
      "   ---------- ----------------------------- 8.5/32.8 MB 4.1 MB/s eta 0:00:06\n",
      "   ---------- ----------------------------- 8.7/32.8 MB 4.1 MB/s eta 0:00:06\n",
      "   ---------- ----------------------------- 8.9/32.8 MB 4.1 MB/s eta 0:00:06\n",
      "   ----------- ---------------------------- 9.1/32.8 MB 4.1 MB/s eta 0:00:06\n",
      "   ----------- ---------------------------- 9.3/32.8 MB 4.1 MB/s eta 0:00:06\n",
      "   ----------- ---------------------------- 9.6/32.8 MB 4.2 MB/s eta 0:00:06\n",
      "   ----------- ---------------------------- 9.8/32.8 MB 4.2 MB/s eta 0:00:06\n",
      "   ------------ --------------------------- 10.0/32.8 MB 4.2 MB/s eta 0:00:06\n",
      "   ------------ --------------------------- 10.2/32.8 MB 4.2 MB/s eta 0:00:06\n",
      "   ------------ --------------------------- 10.4/32.8 MB 4.3 MB/s eta 0:00:06\n",
      "   ------------ --------------------------- 10.6/32.8 MB 4.4 MB/s eta 0:00:06\n",
      "   ------------- -------------------------- 10.8/32.8 MB 4.4 MB/s eta 0:00:06\n",
      "   ------------- -------------------------- 11.0/32.8 MB 4.4 MB/s eta 0:00:06\n",
      "   ------------- -------------------------- 11.2/32.8 MB 4.4 MB/s eta 0:00:05\n",
      "   ------------- -------------------------- 11.4/32.8 MB 4.4 MB/s eta 0:00:05\n",
      "   -------------- ------------------------- 11.6/32.8 MB 4.4 MB/s eta 0:00:05\n",
      "   -------------- ------------------------- 11.8/32.8 MB 4.4 MB/s eta 0:00:05\n",
      "   -------------- ------------------------- 12.0/32.8 MB 4.4 MB/s eta 0:00:05\n",
      "   -------------- ------------------------- 12.2/32.8 MB 4.4 MB/s eta 0:00:05\n",
      "   --------------- ------------------------ 12.5/32.8 MB 4.4 MB/s eta 0:00:05\n",
      "   --------------- ------------------------ 12.6/32.8 MB 4.3 MB/s eta 0:00:05\n",
      "   --------------- ------------------------ 12.9/32.8 MB 4.4 MB/s eta 0:00:05\n",
      "   --------------- ------------------------ 13.0/32.8 MB 4.3 MB/s eta 0:00:05\n",
      "   ---------------- ----------------------- 13.2/32.8 MB 4.3 MB/s eta 0:00:05\n",
      "   ---------------- ----------------------- 13.4/32.8 MB 4.3 MB/s eta 0:00:05\n",
      "   ---------------- ----------------------- 13.6/32.8 MB 4.3 MB/s eta 0:00:05\n",
      "   ---------------- ----------------------- 13.9/32.8 MB 4.3 MB/s eta 0:00:05\n",
      "   ----------------- ---------------------- 14.1/32.8 MB 4.3 MB/s eta 0:00:05\n",
      "   ----------------- ---------------------- 14.3/32.8 MB 4.4 MB/s eta 0:00:05\n",
      "   ----------------- ---------------------- 14.5/32.8 MB 4.3 MB/s eta 0:00:05\n",
      "   ----------------- ---------------------- 14.7/32.8 MB 4.3 MB/s eta 0:00:05\n",
      "   ------------------ --------------------- 14.9/32.8 MB 4.4 MB/s eta 0:00:05\n",
      "   ------------------ --------------------- 15.1/32.8 MB 4.4 MB/s eta 0:00:05\n",
      "   ------------------ --------------------- 15.3/32.8 MB 4.3 MB/s eta 0:00:05\n",
      "   ------------------ --------------------- 15.5/32.8 MB 4.3 MB/s eta 0:00:04\n",
      "   ------------------- -------------------- 15.7/32.8 MB 4.4 MB/s eta 0:00:04\n",
      "   ------------------- -------------------- 15.9/32.8 MB 4.8 MB/s eta 0:00:04\n",
      "   ------------------- -------------------- 16.1/32.8 MB 4.7 MB/s eta 0:00:04\n",
      "   ------------------- -------------------- 16.3/32.8 MB 4.6 MB/s eta 0:00:04\n",
      "   -------------------- ------------------- 16.5/32.8 MB 4.7 MB/s eta 0:00:04\n",
      "   -------------------- ------------------- 16.7/32.8 MB 4.6 MB/s eta 0:00:04\n",
      "   -------------------- ------------------- 16.9/32.8 MB 4.5 MB/s eta 0:00:04\n",
      "   -------------------- ------------------- 17.2/32.8 MB 4.5 MB/s eta 0:00:04\n",
      "   --------------------- ------------------ 17.4/32.8 MB 4.4 MB/s eta 0:00:04\n",
      "   --------------------- ------------------ 17.6/32.8 MB 4.4 MB/s eta 0:00:04\n",
      "   --------------------- ------------------ 17.8/32.8 MB 4.4 MB/s eta 0:00:04\n",
      "   --------------------- ------------------ 17.9/32.8 MB 4.4 MB/s eta 0:00:04\n",
      "   ---------------------- ----------------- 18.2/32.8 MB 4.4 MB/s eta 0:00:04\n",
      "   ---------------------- ----------------- 18.4/32.8 MB 4.4 MB/s eta 0:00:04\n",
      "   ---------------------- ----------------- 18.6/32.8 MB 4.4 MB/s eta 0:00:04\n",
      "   ---------------------- ----------------- 18.8/32.8 MB 4.4 MB/s eta 0:00:04\n",
      "   ----------------------- ---------------- 19.0/32.8 MB 4.4 MB/s eta 0:00:04\n",
      "   ----------------------- ---------------- 19.2/32.8 MB 4.4 MB/s eta 0:00:04\n",
      "   ----------------------- ---------------- 19.4/32.8 MB 4.4 MB/s eta 0:00:04\n",
      "   ----------------------- ---------------- 19.6/32.8 MB 4.4 MB/s eta 0:00:03\n",
      "   ------------------------ --------------- 19.8/32.8 MB 4.4 MB/s eta 0:00:03\n",
      "   ------------------------ --------------- 20.0/32.8 MB 4.4 MB/s eta 0:00:03\n",
      "   ------------------------ --------------- 20.2/32.8 MB 4.4 MB/s eta 0:00:03\n",
      "   ------------------------ --------------- 20.4/32.8 MB 4.4 MB/s eta 0:00:03\n",
      "   ------------------------- -------------- 20.6/32.8 MB 4.4 MB/s eta 0:00:03\n",
      "   ------------------------- -------------- 20.8/32.8 MB 4.4 MB/s eta 0:00:03\n",
      "   ------------------------- -------------- 21.0/32.8 MB 4.4 MB/s eta 0:00:03\n",
      "   ------------------------- -------------- 21.2/32.8 MB 4.4 MB/s eta 0:00:03\n",
      "   -------------------------- ------------- 21.4/32.8 MB 4.4 MB/s eta 0:00:03\n",
      "   -------------------------- ------------- 21.6/32.8 MB 4.4 MB/s eta 0:00:03\n",
      "   -------------------------- ------------- 21.7/32.8 MB 4.4 MB/s eta 0:00:03\n",
      "   -------------------------- ------------- 21.7/32.8 MB 4.4 MB/s eta 0:00:03\n",
      "   -------------------------- ------------- 21.7/32.8 MB 4.4 MB/s eta 0:00:03\n",
      "   -------------------------- ------------- 21.7/32.8 MB 4.4 MB/s eta 0:00:03\n",
      "   -------------------------- ------------- 21.7/32.8 MB 4.4 MB/s eta 0:00:03\n",
      "   --------------------------- ------------ 22.7/32.8 MB 4.4 MB/s eta 0:00:03\n",
      "   --------------------------- ------------ 22.9/32.8 MB 4.4 MB/s eta 0:00:03\n",
      "   ---------------------------- ----------- 23.1/32.8 MB 4.4 MB/s eta 0:00:03\n",
      "   ---------------------------- ----------- 23.4/32.8 MB 4.4 MB/s eta 0:00:03\n",
      "   ---------------------------- ----------- 23.6/32.8 MB 4.4 MB/s eta 0:00:03\n",
      "   ---------------------------- ----------- 23.8/32.8 MB 4.4 MB/s eta 0:00:03\n",
      "   ----------------------------- ---------- 24.0/32.8 MB 4.4 MB/s eta 0:00:03\n",
      "   ----------------------------- ---------- 24.2/32.8 MB 4.4 MB/s eta 0:00:02\n",
      "   ----------------------------- ---------- 24.4/32.8 MB 4.4 MB/s eta 0:00:02\n",
      "   ----------------------------- ---------- 24.6/32.8 MB 4.4 MB/s eta 0:00:02\n",
      "   ------------------------------ --------- 24.8/32.8 MB 4.4 MB/s eta 0:00:02\n",
      "   ------------------------------ --------- 25.0/32.8 MB 4.4 MB/s eta 0:00:02\n",
      "   ------------------------------ --------- 25.1/32.8 MB 4.3 MB/s eta 0:00:02\n",
      "   ------------------------------ --------- 25.4/32.8 MB 4.4 MB/s eta 0:00:02\n",
      "   ------------------------------- -------- 25.6/32.8 MB 4.3 MB/s eta 0:00:02\n",
      "   ------------------------------- -------- 25.8/32.8 MB 4.3 MB/s eta 0:00:02\n",
      "   ------------------------------- -------- 26.0/32.8 MB 4.3 MB/s eta 0:00:02\n",
      "   ------------------------------- -------- 26.1/32.8 MB 4.3 MB/s eta 0:00:02\n",
      "   ------------------------------- -------- 26.1/32.8 MB 4.2 MB/s eta 0:00:02\n",
      "   ------------------------------- -------- 26.2/32.8 MB 4.2 MB/s eta 0:00:02\n",
      "   ------------------------------- -------- 26.3/32.8 MB 4.1 MB/s eta 0:00:02\n",
      "   -------------------------------- ------- 26.3/32.8 MB 4.1 MB/s eta 0:00:02\n",
      "   -------------------------------- ------- 26.4/32.8 MB 4.0 MB/s eta 0:00:02\n",
      "   -------------------------------- ------- 26.4/32.8 MB 4.0 MB/s eta 0:00:02\n",
      "   -------------------------------- ------- 26.5/32.8 MB 3.9 MB/s eta 0:00:02\n",
      "   -------------------------------- ------- 26.7/32.8 MB 3.9 MB/s eta 0:00:02\n",
      "   -------------------------------- ------- 26.7/32.8 MB 3.9 MB/s eta 0:00:02\n",
      "   -------------------------------- ------- 26.7/32.8 MB 3.9 MB/s eta 0:00:02\n",
      "   -------------------------------- ------- 27.1/32.8 MB 3.8 MB/s eta 0:00:02\n",
      "   --------------------------------- ------ 27.5/32.8 MB 3.9 MB/s eta 0:00:02\n",
      "   --------------------------------- ------ 27.7/32.8 MB 3.9 MB/s eta 0:00:02\n",
      "   --------------------------------- ------ 27.9/32.8 MB 3.9 MB/s eta 0:00:02\n",
      "   ---------------------------------- ----- 28.1/32.8 MB 3.9 MB/s eta 0:00:02\n",
      "   ---------------------------------- ----- 28.3/32.8 MB 3.9 MB/s eta 0:00:02\n",
      "   ---------------------------------- ----- 28.5/32.8 MB 3.9 MB/s eta 0:00:02\n",
      "   ---------------------------------- ----- 28.7/32.8 MB 3.9 MB/s eta 0:00:02\n",
      "   ----------------------------------- ---- 28.9/32.8 MB 3.9 MB/s eta 0:00:02\n",
      "   ----------------------------------- ---- 29.1/32.8 MB 3.9 MB/s eta 0:00:01\n",
      "   ----------------------------------- ---- 29.3/32.8 MB 3.9 MB/s eta 0:00:01\n",
      "   ----------------------------------- ---- 29.6/32.8 MB 3.9 MB/s eta 0:00:01\n",
      "   ------------------------------------ --- 29.7/32.8 MB 3.9 MB/s eta 0:00:01\n",
      "   ------------------------------------ --- 30.0/32.8 MB 3.9 MB/s eta 0:00:01\n",
      "   ------------------------------------ --- 30.1/32.8 MB 3.9 MB/s eta 0:00:01\n",
      "   ------------------------------------ --- 30.4/32.8 MB 3.9 MB/s eta 0:00:01\n",
      "   ------------------------------------- -- 30.6/32.8 MB 3.9 MB/s eta 0:00:01\n",
      "   ------------------------------------- -- 30.8/32.8 MB 3.9 MB/s eta 0:00:01\n",
      "   ------------------------------------- -- 31.0/32.8 MB 3.9 MB/s eta 0:00:01\n",
      "   ------------------------------------- -- 31.2/32.8 MB 3.9 MB/s eta 0:00:01\n",
      "   -------------------------------------- - 31.4/32.8 MB 3.9 MB/s eta 0:00:01\n",
      "   -------------------------------------- - 31.6/32.8 MB 3.9 MB/s eta 0:00:01\n",
      "   -------------------------------------- - 31.8/32.8 MB 3.9 MB/s eta 0:00:01\n",
      "   -------------------------------------- - 32.0/32.8 MB 4.3 MB/s eta 0:00:01\n",
      "   ---------------------------------------  32.2/32.8 MB 4.2 MB/s eta 0:00:01\n",
      "   ---------------------------------------  32.4/32.8 MB 4.1 MB/s eta 0:00:01\n",
      "   ---------------------------------------  32.6/32.8 MB 4.0 MB/s eta 0:00:01\n",
      "   ---------------------------------------  32.8/32.8 MB 4.0 MB/s eta 0:00:01\n",
      "   ---------------------------------------  32.8/32.8 MB 4.0 MB/s eta 0:00:01\n",
      "   ---------------------------------------  32.8/32.8 MB 4.0 MB/s eta 0:00:01\n",
      "   ---------------------------------------  32.8/32.8 MB 4.0 MB/s eta 0:00:01\n",
      "   ---------------------------------------  32.8/32.8 MB 4.0 MB/s eta 0:00:01\n",
      "   ---------------------------------------- 32.8/32.8 MB 3.7 MB/s eta 0:00:00\n",
      "Installing collected packages: SpeechRecognition\n",
      "Successfully installed SpeechRecognition-3.10.3\n",
      "Note: you may need to restart the kernel to use updated packages.\n"
     ]
    }
   ],
   "source": [
    "pip install SpeechRecognition"
   ]
  },
  {
   "cell_type": "code",
   "execution_count": 26,
   "id": "112f9d17-031b-457b-ac60-6834b7a92633",
   "metadata": {},
   "outputs": [
    {
     "name": "stdout",
     "output_type": "stream",
     "text": [
      "Collecting pyaudio\n",
      "  Downloading PyAudio-0.2.14-cp311-cp311-win_amd64.whl.metadata (2.7 kB)\n",
      "Downloading PyAudio-0.2.14-cp311-cp311-win_amd64.whl (164 kB)\n",
      "   ---------------------------------------- 0.0/164.1 kB ? eta -:--:--\n",
      "   ----------------- ---------------------- 71.7/164.1 kB 1.3 MB/s eta 0:00:01\n",
      "   ---------------------------------------  163.8/164.1 kB 2.0 MB/s eta 0:00:01\n",
      "   ---------------------------------------- 164.1/164.1 kB 1.6 MB/s eta 0:00:00\n",
      "Installing collected packages: pyaudio\n",
      "Successfully installed pyaudio-0.2.14\n",
      "Note: you may need to restart the kernel to use updated packages.\n"
     ]
    },
    {
     "name": "stderr",
     "output_type": "stream",
     "text": [
      "  WARNING: Retrying (Retry(total=4, connect=None, read=None, redirect=None, status=None)) after connection broken by 'ConnectTimeoutError(<pip._vendor.urllib3.connection.HTTPSConnection object at 0x00000184DAA1F210>, 'Connection to files.pythonhosted.org timed out. (connect timeout=15)')': /packages/82/d8/f043c854aad450a76e476b0cf9cda1956419e1dacf1062eb9df3c0055abe/PyAudio-0.2.14-cp311-cp311-win_amd64.whl.metadata\n",
      "  WARNING: Retrying (Retry(total=3, connect=None, read=None, redirect=None, status=None)) after connection broken by 'NewConnectionError('<pip._vendor.urllib3.connection.HTTPSConnection object at 0x00000184DAA1F790>: Failed to establish a new connection: [Errno 11001] getaddrinfo failed')': /packages/82/d8/f043c854aad450a76e476b0cf9cda1956419e1dacf1062eb9df3c0055abe/PyAudio-0.2.14-cp311-cp311-win_amd64.whl.metadata\n"
     ]
    }
   ],
   "source": [
    "pip install pyaudio"
   ]
  },
  {
   "cell_type": "code",
   "execution_count": 27,
   "id": "9259c18a-a10b-40eb-a66a-c6718f95eb79",
   "metadata": {},
   "outputs": [],
   "source": [
    "import speech_recognition as sr"
   ]
  },
  {
   "cell_type": "code",
   "execution_count": 32,
   "id": "c43319e2-08f8-47aa-85bf-a16b94bba3bf",
   "metadata": {},
   "outputs": [
    {
     "name": "stdout",
     "output_type": "stream",
     "text": [
      "Say Something...\n",
      "I like it dropper\n",
      "Sentiment(polarity=0.0, subjectivity=0.0)\n"
     ]
    }
   ],
   "source": [
    "r = sr.Recognizer()\n",
    "with sr.Microphone() as source:\n",
    "    print('Say Something...')\n",
    "    audio = r.listen(source, timeout=2)\n",
    "    try:\n",
    "        text = r.recognize_google(audio)\n",
    "        tb = blob(text)\n",
    "        print(text)\n",
    "        print(tb.sentiment)\n",
    "    except:\n",
    "        print('Sorry... Try again')"
   ]
  }
 ],
 "metadata": {
  "kernelspec": {
   "display_name": "Python 3 (ipykernel)",
   "language": "python",
   "name": "python3"
  },
  "language_info": {
   "codemirror_mode": {
    "name": "ipython",
    "version": 3
   },
   "file_extension": ".py",
   "mimetype": "text/x-python",
   "name": "python",
   "nbconvert_exporter": "python",
   "pygments_lexer": "ipython3",
   "version": "3.11.7"
  }
 },
 "nbformat": 4,
 "nbformat_minor": 5
}
